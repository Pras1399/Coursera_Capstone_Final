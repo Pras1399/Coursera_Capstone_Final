{
 "cells": [
  {
   "cell_type": "markdown",
   "id": "f524b3aa",
   "metadata": {},
   "source": [
    "# RECOMMEDING A GOOD SMALL SCALE BUSINESS STARTUP IN BANGALORE"
   ]
  },
  {
   "cell_type": "markdown",
   "id": "d4872c7f",
   "metadata": {},
   "source": [
    "## BUSINESS PROBLEM"
   ]
  },
  {
   "cell_type": "markdown",
   "id": "9a29bd57",
   "metadata": {},
   "source": [
    "### Goal of many people is to earn money. Money can be earnt in many ways. This project deals with one way of earning money. My goal in this project is to find out the right way to head start towards a small scale business in Bangalore. Bangalore is not a small town or area. Having known that Bangalore is big city, I need to know which kind of business is very potential,attractive, fast growing and loved by many people. For this I need to use the Foresquare Location data to know which kind of shops or other venues are very famous so that once after knowing that this certain venue is most loved by people, I could suggest to start a small scale business related to that venue. For example, if restaurant is most loved by people, then I would suggest you to start your business in the path of restaurant not relatively starting up a restaurant. This is just an example. So, like this in a particular area, this project could suggest with some basic idea of what to start based on the interest of people. "
   ]
  },
  {
   "cell_type": "markdown",
   "id": "0eb3b725",
   "metadata": {},
   "source": [
    "# DATA"
   ]
  },
  {
   "cell_type": "markdown",
   "id": "54225fee",
   "metadata": {},
   "source": [
    "### As I have choosen to work with Bangalore City, I need many location data related to Bangalore. I have collected as many neighbourhood areas as possible in Bangalore City, their geographical locations like the latitude and longitude values etc. These neighbourhood names, their latitude and longitude values could help me to proceed with my project. I have collected these information from various sites, cleaned and brought into a format which is easy to work with.  "
   ]
  },
  {
   "cell_type": "code",
   "execution_count": null,
   "id": "b572dd6c",
   "metadata": {},
   "outputs": [],
   "source": []
  }
 ],
 "metadata": {
  "kernelspec": {
   "display_name": "Python 3",
   "language": "python",
   "name": "python3"
  },
  "language_info": {
   "codemirror_mode": {
    "name": "ipython",
    "version": 3
   },
   "file_extension": ".py",
   "mimetype": "text/x-python",
   "name": "python",
   "nbconvert_exporter": "python",
   "pygments_lexer": "ipython3",
   "version": "3.8.8"
  }
 },
 "nbformat": 4,
 "nbformat_minor": 5
}
